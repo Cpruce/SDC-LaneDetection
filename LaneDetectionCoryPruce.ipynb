{
 "cells": [
  {
   "cell_type": "markdown",
   "metadata": {},
   "source": [
    "# **Finding Lane Lines on the Road** \n",
    "\n",
    "## Cory Pruce\n",
    "\n",
    "---\n",
    "\n",
    "**Finding Lane Lines on the Road**\n",
    "\n",
    "The goals / steps of this project are the following:\n",
    "* Make a pipeline that finds lane lines on the road\n",
    "* Reflect on your work in a written report\n",
    "\n",
    "\n",
    "[//]: # (Image References)\n",
    "\n",
    "[image1]: ./examples/grayscale.jpg \"Grayscale\"\n",
    "\n",
    "---\n",
    "\n",
    "### Reflection\n",
    "\n",
    "### 1. Describe your pipeline. As part of the description, explain how you modified the draw_lines() function.\n",
    "\n",
    "The pipeline laid out can be segmented into 6 parts, including writing the image to persistent storage:\n",
    "\n",
    "```python\n",
    "\n",
    "def run(self, image):\n",
    "        h, w, _d = image.shape\n",
    "        polygon_vertices = self.get_lanes_polygon(h, w)\n",
    "        blur_gray = gaussian_blur(grayscale(image), self.kernel_size)\n",
    "        edges_image = canny(blur_gray, self.canny_low, self.canny_high)\n",
    "        masked_image = region_of_interest(edges_image, polygon_vertices)\n",
    "        lanes_image = self.get_lanes_image(masked_image, image, polygon_vertices)\n",
    "        self.write_img(lanes_image)\n",
    "        return lanes_image\n",
    "\n",
    "```\n",
    "\n",
    "Following the quizzes and a forum post, I first converted the image to grayscale, then blurring that image by sending through a Gaussian distribution. From there, I extract edges using the canny function with thresholds of 140 for lower and 145 for higher. Constrained to an adjustable trapezoid, I get the image with lanes drawn through the hough function and draw lines.    \n",
    "\n",
    "After a bit of a struggle trying to get the lane lines right using `sohcahtoa`, I took to the forums for inspiration (and help with getting the video to update). There I found simple uses of the `polyfit`/`poly1d` functions to find the line that best fits the given points. At this point, I already had a slope threshold so creating good lane lists was trivial. Upon acheiving a \"working\" solution, I noticed that the lanes had a lot of volatility (bounced off the line). Seeing another forum post, I implemented a small buffer of \"memory\" that saves up to `eviction_threshold` previous lane pairs. This smoothed the videos out incredibly! :) \n",
    "\n",
    "\n",
    "### 2. Identify potential shortcomings with your current pipeline\n",
    "\n",
    "One potential shortcoming would be what would happen when some object enters into the picture, literally! The given demonstrations assume an open road ahead. However, lines are not always perfect, objects like cars could be in front, and curves/angles/lighting can frequentely change.\n",
    "\n",
    "Another shortcoming could be granularity. These lanes take the form of lines. However, lane \"lines\" ahead are usually not perfectly aligned with the orientation of the vehicle. Acheiving some flexibility in the \"line\" would probably really coincide with something like path-planning ;)\n",
    "\n",
    "\n",
    "### 3. Suggest possible improvements to your pipeline\n",
    "\n",
    "A possible improvement would be to automate this even more with a convnet! The problem could be structured as either a supervised or unsupervised learning problem and would get the granularity issue down with enough data!\n",
    "\n",
    "Another potential improvement could be to train on images with less-than-ideal circumstances. For example, images that contain tunnels, bridges, boats, other objects, road paint, similar looking objects (like a stop-sign bumper sticker). Maybe this last one is a bit more than just lane detection!"
   ]
  },
  {
   "cell_type": "code",
   "execution_count": null,
   "metadata": {
    "collapsed": true
   },
   "outputs": [],
   "source": []
  }
 ],
 "metadata": {
  "kernelspec": {
   "display_name": "Python 3",
   "language": "python",
   "name": "python3"
  },
  "language_info": {
   "codemirror_mode": {
    "name": "ipython",
    "version": 2
   },
   "file_extension": ".py",
   "mimetype": "text/x-python",
   "name": "python",
   "nbconvert_exporter": "python",
   "pygments_lexer": "ipython2",
   "version": "2.7.13"
  }
 },
 "nbformat": 4,
 "nbformat_minor": 2
}
